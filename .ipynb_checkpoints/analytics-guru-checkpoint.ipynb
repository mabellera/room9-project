{
 "cells": [
  {
   "cell_type": "code",
   "execution_count": null,
   "metadata": {},
   "outputs": [],
   "source": [
    "# import the dependencies\n",
    "# Load file \n",
    "# create the main dataframes\n",
    "# check if need any cleanup\n",
    "# Pick one Measure/indicator to compare between hostipals in georgia \n",
    "# Pick one Measure/indicator to compare  between hostipals in VA \n",
    "# Pick one Measure to compare between hostipals in georgia and VA\n",
    "# crete the visualization \n",
    "# now repeat."
   ]
  }
 ],
 "metadata": {
  "kernelspec": {
   "display_name": "Python 3",
   "language": "python",
   "name": "python3"
  },
  "language_info": {
   "codemirror_mode": {
    "name": "ipython",
    "version": 3
   },
   "file_extension": ".py",
   "mimetype": "text/x-python",
   "name": "python",
   "nbconvert_exporter": "python",
   "pygments_lexer": "ipython3",
   "version": "3.7.6"
  }
 },
 "nbformat": 4,
 "nbformat_minor": 4
}
